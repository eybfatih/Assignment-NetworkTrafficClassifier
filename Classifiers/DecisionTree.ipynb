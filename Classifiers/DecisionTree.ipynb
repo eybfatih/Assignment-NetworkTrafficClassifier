{
 "cells": [
  {
   "cell_type": "markdown",
   "metadata": {},
   "source": [
    "# Decision Tree Implementation"
   ]
  },
  {
   "cell_type": "code",
   "execution_count": 1,
   "metadata": {},
   "outputs": [],
   "source": [
    "import numpy as np\n",
    "import pandas as pd\n",
    "import matplotlib.pyplot as plt\n",
    "\n",
    "from sklearn.preprocessing import LabelEncoder\n",
    "from sklearn.model_selection import train_test_split\n",
    "\n",
    "from sklearn.tree import DecisionTreeClassifier\n",
    "from sklearn.preprocessing import StandardScaler\n",
    "\n",
    "from sklearn.metrics import confusion_matrix\n",
    "from sklearn.metrics import classification_report\n",
    "from sklearn.metrics import plot_confusion_matrix\n",
    "\n",
    "from sklearn.metrics import accuracy_score, precision_score, recall_score, f1_score"
   ]
  },
  {
   "cell_type": "markdown",
   "metadata": {},
   "source": [
    "## Prepare Dataset"
   ]
  },
  {
   "cell_type": "code",
   "execution_count": 2,
   "metadata": {
    "scrolled": true
   },
   "outputs": [
    {
     "data": {
      "text/html": [
       "<div>\n",
       "<style scoped>\n",
       "    .dataframe tbody tr th:only-of-type {\n",
       "        vertical-align: middle;\n",
       "    }\n",
       "\n",
       "    .dataframe tbody tr th {\n",
       "        vertical-align: top;\n",
       "    }\n",
       "\n",
       "    .dataframe thead th {\n",
       "        text-align: right;\n",
       "    }\n",
       "</style>\n",
       "<table border=\"1\" class=\"dataframe\">\n",
       "  <thead>\n",
       "    <tr style=\"text-align: right;\">\n",
       "      <th></th>\n",
       "      <th>Source.IP</th>\n",
       "      <th>Source.Port</th>\n",
       "      <th>Destination.IP</th>\n",
       "      <th>Destination.Port</th>\n",
       "      <th>Protocol</th>\n",
       "      <th>Flow.Duration</th>\n",
       "      <th>Total.Fwd.Packets</th>\n",
       "      <th>Total.Backward.Packets</th>\n",
       "      <th>Total.Length.of.Fwd.Packets</th>\n",
       "      <th>Total.Length.of.Bwd.Packets</th>\n",
       "      <th>...</th>\n",
       "      <th>Active.Mean</th>\n",
       "      <th>Active.Std</th>\n",
       "      <th>Active.Max</th>\n",
       "      <th>Active.Min</th>\n",
       "      <th>Idle.Mean</th>\n",
       "      <th>Idle.Std</th>\n",
       "      <th>Idle.Max</th>\n",
       "      <th>Idle.Min</th>\n",
       "      <th>L7Protocol</th>\n",
       "      <th>ProtocolName</th>\n",
       "    </tr>\n",
       "  </thead>\n",
       "  <tbody>\n",
       "    <tr>\n",
       "      <th>0</th>\n",
       "      <td>3232238138</td>\n",
       "      <td>55681</td>\n",
       "      <td>180881158</td>\n",
       "      <td>3128</td>\n",
       "      <td>6</td>\n",
       "      <td>19002242</td>\n",
       "      <td>3</td>\n",
       "      <td>17</td>\n",
       "      <td>6</td>\n",
       "      <td>30.0</td>\n",
       "      <td>...</td>\n",
       "      <td>7352281.0</td>\n",
       "      <td>0.000000</td>\n",
       "      <td>7352281.0</td>\n",
       "      <td>7352281.0</td>\n",
       "      <td>11649832.0</td>\n",
       "      <td>0.000000e+00</td>\n",
       "      <td>11649832.0</td>\n",
       "      <td>11649832.0</td>\n",
       "      <td>131</td>\n",
       "      <td>HTTP_PROXY</td>\n",
       "    </tr>\n",
       "    <tr>\n",
       "      <th>1</th>\n",
       "      <td>180881160</td>\n",
       "      <td>3128</td>\n",
       "      <td>3232246304</td>\n",
       "      <td>53107</td>\n",
       "      <td>6</td>\n",
       "      <td>119684671</td>\n",
       "      <td>1006</td>\n",
       "      <td>898</td>\n",
       "      <td>1398550</td>\n",
       "      <td>5388.0</td>\n",
       "      <td>...</td>\n",
       "      <td>0.0</td>\n",
       "      <td>0.000000</td>\n",
       "      <td>0.0</td>\n",
       "      <td>0.0</td>\n",
       "      <td>0.0</td>\n",
       "      <td>0.000000e+00</td>\n",
       "      <td>0.0</td>\n",
       "      <td>0.0</td>\n",
       "      <td>131</td>\n",
       "      <td>HTTP_PROXY</td>\n",
       "    </tr>\n",
       "    <tr>\n",
       "      <th>2</th>\n",
       "      <td>3232243804</td>\n",
       "      <td>59584</td>\n",
       "      <td>180881158</td>\n",
       "      <td>3128</td>\n",
       "      <td>6</td>\n",
       "      <td>118953292</td>\n",
       "      <td>24</td>\n",
       "      <td>66</td>\n",
       "      <td>1325</td>\n",
       "      <td>5077.0</td>\n",
       "      <td>...</td>\n",
       "      <td>336393.6</td>\n",
       "      <td>238675.043634</td>\n",
       "      <td>655083.0</td>\n",
       "      <td>172.0</td>\n",
       "      <td>23388871.8</td>\n",
       "      <td>7.972935e+06</td>\n",
       "      <td>29761260.0</td>\n",
       "      <td>12118217.0</td>\n",
       "      <td>131</td>\n",
       "      <td>HTTP_PROXY</td>\n",
       "    </tr>\n",
       "    <tr>\n",
       "      <th>3</th>\n",
       "      <td>182845710</td>\n",
       "      <td>53446</td>\n",
       "      <td>180881157</td>\n",
       "      <td>3128</td>\n",
       "      <td>6</td>\n",
       "      <td>59992665</td>\n",
       "      <td>3</td>\n",
       "      <td>3</td>\n",
       "      <td>18</td>\n",
       "      <td>63.0</td>\n",
       "      <td>...</td>\n",
       "      <td>120.0</td>\n",
       "      <td>91.923882</td>\n",
       "      <td>185.0</td>\n",
       "      <td>55.0</td>\n",
       "      <td>29995813.0</td>\n",
       "      <td>2.121108e+07</td>\n",
       "      <td>44994310.0</td>\n",
       "      <td>14997316.0</td>\n",
       "      <td>131</td>\n",
       "      <td>HTTP_PROXY</td>\n",
       "    </tr>\n",
       "    <tr>\n",
       "      <th>4</th>\n",
       "      <td>3232254003</td>\n",
       "      <td>21192</td>\n",
       "      <td>180881159</td>\n",
       "      <td>3128</td>\n",
       "      <td>6</td>\n",
       "      <td>1413924</td>\n",
       "      <td>22</td>\n",
       "      <td>0</td>\n",
       "      <td>4622</td>\n",
       "      <td>0.0</td>\n",
       "      <td>...</td>\n",
       "      <td>0.0</td>\n",
       "      <td>0.000000</td>\n",
       "      <td>0.0</td>\n",
       "      <td>0.0</td>\n",
       "      <td>0.0</td>\n",
       "      <td>0.000000e+00</td>\n",
       "      <td>0.0</td>\n",
       "      <td>0.0</td>\n",
       "      <td>131</td>\n",
       "      <td>HTTP_PROXY</td>\n",
       "    </tr>\n",
       "  </tbody>\n",
       "</table>\n",
       "<p>5 rows × 74 columns</p>\n",
       "</div>"
      ],
      "text/plain": [
       "    Source.IP  Source.Port  Destination.IP  Destination.Port  Protocol  \\\n",
       "0  3232238138        55681       180881158              3128         6   \n",
       "1   180881160         3128      3232246304             53107         6   \n",
       "2  3232243804        59584       180881158              3128         6   \n",
       "3   182845710        53446       180881157              3128         6   \n",
       "4  3232254003        21192       180881159              3128         6   \n",
       "\n",
       "   Flow.Duration  Total.Fwd.Packets  Total.Backward.Packets  \\\n",
       "0       19002242                  3                      17   \n",
       "1      119684671               1006                     898   \n",
       "2      118953292                 24                      66   \n",
       "3       59992665                  3                       3   \n",
       "4        1413924                 22                       0   \n",
       "\n",
       "   Total.Length.of.Fwd.Packets  Total.Length.of.Bwd.Packets  ...  Active.Mean  \\\n",
       "0                            6                         30.0  ...    7352281.0   \n",
       "1                      1398550                       5388.0  ...          0.0   \n",
       "2                         1325                       5077.0  ...     336393.6   \n",
       "3                           18                         63.0  ...        120.0   \n",
       "4                         4622                          0.0  ...          0.0   \n",
       "\n",
       "      Active.Std  Active.Max  Active.Min   Idle.Mean      Idle.Std  \\\n",
       "0       0.000000   7352281.0   7352281.0  11649832.0  0.000000e+00   \n",
       "1       0.000000         0.0         0.0         0.0  0.000000e+00   \n",
       "2  238675.043634    655083.0       172.0  23388871.8  7.972935e+06   \n",
       "3      91.923882       185.0        55.0  29995813.0  2.121108e+07   \n",
       "4       0.000000         0.0         0.0         0.0  0.000000e+00   \n",
       "\n",
       "     Idle.Max    Idle.Min  L7Protocol  ProtocolName  \n",
       "0  11649832.0  11649832.0         131    HTTP_PROXY  \n",
       "1         0.0         0.0         131    HTTP_PROXY  \n",
       "2  29761260.0  12118217.0         131    HTTP_PROXY  \n",
       "3  44994310.0  14997316.0         131    HTTP_PROXY  \n",
       "4         0.0         0.0         131    HTTP_PROXY  \n",
       "\n",
       "[5 rows x 74 columns]"
      ]
     },
     "execution_count": 2,
     "metadata": {},
     "output_type": "execute_result"
    }
   ],
   "source": [
    "datasetPath = \"../Dataset/balanced-74Attributes-top17_ProtocolName.csv\"\n",
    "\n",
    "df = pd.read_csv(datasetPath)\n",
    "#df = pd.read_csv(datasetPath, nrows=10000)\n",
    "df.head()"
   ]
  },
  {
   "cell_type": "code",
   "execution_count": 3,
   "metadata": {},
   "outputs": [],
   "source": [
    "# Encode label for ProtocolName column\n",
    "\n",
    "encoder = LabelEncoder().fit(df['ProtocolName'])\n",
    "df['ProtocolName'] = encoder.fit_transform(df['ProtocolName'])"
   ]
  },
  {
   "cell_type": "code",
   "execution_count": 4,
   "metadata": {},
   "outputs": [],
   "source": [
    "X = df.drop('ProtocolName',axis=1)\n",
    "Y = df['ProtocolName']\n",
    "\n",
    "scaler = StandardScaler()\n",
    "X = scaler.fit_transform(X)\n",
    "\n",
    "x_train, x_test, y_train, y_test = train_test_split(X, Y, train_size=0.7, random_state=42)\n"
   ]
  },
  {
   "cell_type": "markdown",
   "metadata": {},
   "source": [
    "## Train Model"
   ]
  },
  {
   "cell_type": "code",
   "execution_count": 5,
   "metadata": {},
   "outputs": [],
   "source": [
    "%load_ext memory_profiler"
   ]
  },
  {
   "cell_type": "code",
   "execution_count": 6,
   "metadata": {},
   "outputs": [],
   "source": [
    "dt = DecisionTreeClassifier()"
   ]
  },
  {
   "cell_type": "code",
   "execution_count": 7,
   "metadata": {},
   "outputs": [
    {
     "name": "stdout",
     "output_type": "stream",
     "text": [
      "peak memory: 698.02 MiB, increment: 55.85 MiB\n",
      "CPU times: user 4.32 s, sys: 26 ms, total: 4.34 s\n",
      "Wall time: 4.45 s\n"
     ]
    }
   ],
   "source": [
    "%%time\n",
    "%memit dt.fit(x_train , y_train)"
   ]
  },
  {
   "cell_type": "code",
   "execution_count": 8,
   "metadata": {},
   "outputs": [
    {
     "data": {
      "text/plain": [
       "(33, 10)"
      ]
     },
     "execution_count": 8,
     "metadata": {},
     "output_type": "execute_result"
    }
   ],
   "source": [
    "dt.tree_.node_count, dt.tree_.max_depth"
   ]
  },
  {
   "cell_type": "code",
   "execution_count": 9,
   "metadata": {},
   "outputs": [
    {
     "name": "stdout",
     "output_type": "stream",
     "text": [
      "peak memory: 672.60 MiB, increment: 22.27 MiB\n",
      "CPU times: user 70.9 ms, sys: 39.8 ms, total: 111 ms\n",
      "Wall time: 227 ms\n"
     ]
    }
   ],
   "source": [
    "%%time\n",
    "%memit score = dt.score(x_test, y_test)"
   ]
  },
  {
   "cell_type": "code",
   "execution_count": 10,
   "metadata": {},
   "outputs": [
    {
     "data": {
      "text/plain": [
       "1.0"
      ]
     },
     "execution_count": 10,
     "metadata": {},
     "output_type": "execute_result"
    }
   ],
   "source": [
    "score"
   ]
  },
  {
   "cell_type": "code",
   "execution_count": 11,
   "metadata": {},
   "outputs": [
    {
     "name": "stdout",
     "output_type": "stream",
     "text": [
      "peak memory: 672.61 MiB, increment: 0.00 MiB\n",
      "CPU times: user 88.6 ms, sys: 35.8 ms, total: 124 ms\n",
      "Wall time: 242 ms\n"
     ]
    }
   ],
   "source": [
    "%%time\n",
    "%memit y_pred = dt.predict(x_test)"
   ]
  },
  {
   "cell_type": "markdown",
   "metadata": {},
   "source": [
    "## Make sure the models is overfitting"
   ]
  },
  {
   "cell_type": "markdown",
   "metadata": {},
   "source": [
    "#### cross validate observation"
   ]
  },
  {
   "cell_type": "code",
   "execution_count": 12,
   "metadata": {},
   "outputs": [
    {
     "data": {
      "text/plain": [
       "{'fit_time': array([3.3687129 , 3.25531173, 3.27418947, 3.58660746, 3.55798197]),\n",
       " 'score_time': array([0.00985885, 0.00956011, 0.01360941, 0.01050973, 0.0105474 ]),\n",
       " 'test_score': array([1., 1., 1., 1., 1.]),\n",
       " 'train_score': array([1., 1., 1., 1., 1.])}"
      ]
     },
     "execution_count": 12,
     "metadata": {},
     "output_type": "execute_result"
    }
   ],
   "source": [
    "from sklearn.model_selection import cross_validate\n",
    "\n",
    "cross_validate(dt, x_train, y_train, return_train_score=True)"
   ]
  },
  {
   "cell_type": "markdown",
   "metadata": {},
   "source": [
    "#### retrain with different max_dept and compare the train and test scores "
   ]
  },
  {
   "cell_type": "code",
   "execution_count": 13,
   "metadata": {},
   "outputs": [
    {
     "name": "stdout",
     "output_type": "stream",
     "text": [
      ">1, train: 0.118, test: 0.116\n",
      ">2, train: 0.178, test: 0.174\n",
      ">3, train: 0.296, test: 0.291\n",
      ">4, train: 0.413, test: 0.409\n",
      ">5, train: 0.531, test: 0.526\n",
      ">6, train: 0.590, test: 0.584\n",
      ">7, train: 0.707, test: 0.702\n",
      ">8, train: 0.825, test: 0.820\n",
      ">9, train: 0.942, test: 0.940\n",
      ">10, train: 1.000, test: 1.000\n",
      ">11, train: 1.000, test: 1.000\n",
      ">12, train: 1.000, test: 1.000\n",
      ">13, train: 1.000, test: 1.000\n",
      ">14, train: 1.000, test: 1.000\n",
      ">15, train: 1.000, test: 1.000\n",
      ">16, train: 1.000, test: 1.000\n",
      ">17, train: 1.000, test: 1.000\n",
      ">18, train: 1.000, test: 1.000\n",
      ">19, train: 1.000, test: 1.000\n",
      ">20, train: 1.000, test: 1.000\n"
     ]
    },
    {
     "data": {
      "image/png": "[encoded data removed]",
      "text/plain": [
       "<Figure size 432x288 with 1 Axes>"
      ]
     },
     "metadata": {
      "needs_background": "light"
     },
     "output_type": "display_data"
    }
   ],
   "source": [
    "# define lists to collect scores\n",
    "train_scores, test_scores = list(), list()\n",
    "# define the tree depths to evaluate\n",
    "values = [i for i in range(1, 21)]\n",
    "# evaluate a decision tree for each depth\n",
    "for i in values:\n",
    "    # configure the model\n",
    "    model = DecisionTreeClassifier(max_depth=i)\n",
    "    # fit model on the training dataset\n",
    "    model.fit(x_train, y_train)\n",
    "    # evaluate on the train dataset\n",
    "    train_yhat = model.predict(x_train)\n",
    "    train_acc = accuracy_score(y_train, train_yhat)\n",
    "    train_scores.append(train_acc)\n",
    "    # evaluate on the test dataset\n",
    "    test_yhat = model.predict(x_test)\n",
    "    test_acc = accuracy_score(y_test, test_yhat)\n",
    "    test_scores.append(test_acc)\n",
    "    # summarize progress\n",
    "    print('>%d, train: %.3f, test: %.3f' % (i, train_acc, test_acc))\n",
    "# plot of train and test scores vs tree depth\n",
    "plt.plot(values, train_scores, '-o', label='Train')\n",
    "plt.plot(values, test_scores, '-o', label='Test')\n",
    "plt.legend()\n",
    "plt.show()"
   ]
  },
  {
   "cell_type": "markdown",
   "metadata": {},
   "source": [
    "## Results"
   ]
  },
  {
   "cell_type": "code",
   "execution_count": 14,
   "metadata": {},
   "outputs": [
    {
     "name": "stdout",
     "output_type": "stream",
     "text": [
      "              precision    recall  f1-score   support\n",
      "\n",
      "           0       1.00      1.00      1.00      4325\n",
      "           1       1.00      1.00      1.00      4344\n",
      "           2       1.00      1.00      1.00      4401\n",
      "           3       1.00      1.00      1.00      4318\n",
      "           4       1.00      1.00      1.00      4432\n",
      "           5       1.00      1.00      1.00      4344\n",
      "           6       1.00      1.00      1.00      4268\n",
      "           7       1.00      1.00      1.00      4421\n",
      "           8       1.00      1.00      1.00      4305\n",
      "           9       1.00      1.00      1.00      4325\n",
      "          10       1.00      1.00      1.00      4375\n",
      "          11       1.00      1.00      1.00      4351\n",
      "          12       1.00      1.00      1.00      4291\n",
      "          13       1.00      1.00      1.00      4388\n",
      "          14       1.00      1.00      1.00      4359\n",
      "          15       1.00      1.00      1.00      4304\n",
      "          16       1.00      1.00      1.00      4287\n",
      "\n",
      "    accuracy                           1.00     73838\n",
      "   macro avg       1.00      1.00      1.00     73838\n",
      "weighted avg       1.00      1.00      1.00     73838\n",
      "\n"
     ]
    }
   ],
   "source": [
    "print(classification_report(y_test, y_pred))"
   ]
  },
  {
   "cell_type": "code",
   "execution_count": 15,
   "metadata": {},
   "outputs": [],
   "source": [
    "from sklearn.metrics import accuracy_score, f1_score, precision_score, recall_score, classification_report, confusion_matrix\n"
   ]
  },
  {
   "cell_type": "code",
   "execution_count": 16,
   "metadata": {},
   "outputs": [
    {
     "name": "stdout",
     "output_type": "stream",
     "text": [
      "1.0 1.0 1.0 1.0\n"
     ]
    }
   ],
   "source": [
    "accuracy = accuracy_score(y_test, y_pred)\n",
    "precision = precision_score(y_test, y_pred, average=\"macro\")\n",
    "recall = recall_score(y_test, y_pred, average=\"macro\")\n",
    "f1 = f1_score(y_test, y_pred, average=\"macro\")\n",
    "\n",
    "print(accuracy, precision, recall, f1)"
   ]
  },
  {
   "cell_type": "code",
   "execution_count": 17,
   "metadata": {},
   "outputs": [
    {
     "data": {
      "image/png": "[encoded data removed]",
      "text/plain": [
       "<Figure size 720x576 with 2 Axes>"
      ]
     },
     "metadata": {
      "needs_background": "light"
     },
     "output_type": "display_data"
    }
   ],
   "source": [
    "matrix = plot_confusion_matrix(dt, x_test, y_test, normalize='true', cmap=plt.cm.Reds)\n",
    "matrix.ax_.set_title(\"Confusion Matrix\", color=\"white\")\n",
    "plt.gcf().set_size_inches(10, 8)\n",
    "plt.show()"
   ]
  },
  {
   "cell_type": "code",
   "execution_count": 18,
   "metadata": {},
   "outputs": [
    {
     "data": {
      "text/plain": [
       "<AxesSubplot:>"
      ]
     },
     "execution_count": 18,
     "metadata": {},
     "output_type": "execute_result"
    },
    {
     "data": {
      "image/png": "[encoded data removed]",
      "text/plain": [
       "<Figure size 720x576 with 2 Axes>"
      ]
     },
     "metadata": {
      "needs_background": "light"
     },
     "output_type": "display_data"
    }
   ],
   "source": [
    "import seaborn as sns\n",
    "\n",
    "cm = confusion_matrix(y_test, y_pred)\n",
    "fig, ax = plt.subplots(figsize=(10,8)) \n",
    "sns.heatmap(cm, annot=True, ax=ax, fmt='d', annot_kws={\"size\": 12})"
   ]
  },
  {
   "cell_type": "code",
   "execution_count": null,
   "metadata": {},
   "outputs": [],
   "source": []
  }
 ],
 "metadata": {
  "kernelspec": {
   "display_name": "Python 3",
   "language": "python",
   "name": "python3"
  },
  "language_info": {
   "codemirror_mode": {
    "name": "ipython",
    "version": 3
   },
   "file_extension": ".py",
   "mimetype": "text/x-python",
   "name": "python",
   "nbconvert_exporter": "python",
   "pygments_lexer": "ipython3",
   "version": "3.6.9"
  }
 },
 "nbformat": 4,
 "nbformat_minor": 4
}
