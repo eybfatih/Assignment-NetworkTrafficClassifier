{
 "cells": [
  {
   "cell_type": "markdown",
   "metadata": {},
   "source": [
    "# ANN Tensorflow Implementation"
   ]
  },
  {
   "cell_type": "code",
   "execution_count": 1,
   "metadata": {},
   "outputs": [
    {
     "name": "stderr",
     "output_type": "stream",
     "text": [
      "Using TensorFlow backend.\n"
     ]
    },
    {
     "name": "stdout",
     "output_type": "stream",
     "text": [
      "2.4.0-rc4\n"
     ]
    }
   ],
   "source": [
    "import numpy as np\n",
    "import pandas as pd \n",
    "import matplotlib.pyplot as plt\n",
    "from keras.utils import np_utils\n",
    "\n",
    "from sklearn.model_selection import train_test_split\n",
    "from sklearn.preprocessing import LabelEncoder\n",
    "from sklearn.preprocessing import MinMaxScaler\n",
    "\n",
    "from tensorflow.keras.layers import Input, Dense\n",
    "from tensorflow.keras.models import Model\n",
    "\n",
    "from sklearn.metrics import confusion_matrix\n",
    "\n",
    "import tensorflow as tf\n",
    "print(tf.__version__)"
   ]
  },
  {
   "cell_type": "code",
   "execution_count": 2,
   "metadata": {},
   "outputs": [],
   "source": [
    "import os\n",
    "\n",
    "# disable gpu for cpu runtime test\n",
    "#os.environ[\"CUDA_VISIBLE_DEVICES\"] = \"-1\""
   ]
  },
  {
   "cell_type": "markdown",
   "metadata": {},
   "source": [
    "## Prepare Dataset"
   ]
  },
  {
   "cell_type": "code",
   "execution_count": 3,
   "metadata": {},
   "outputs": [
    {
     "data": {
      "text/html": [
       "<div>\n",
       "<style scoped>\n",
       "    .dataframe tbody tr th:only-of-type {\n",
       "        vertical-align: middle;\n",
       "    }\n",
       "\n",
       "    .dataframe tbody tr th {\n",
       "        vertical-align: top;\n",
       "    }\n",
       "\n",
       "    .dataframe thead th {\n",
       "        text-align: right;\n",
       "    }\n",
       "</style>\n",
       "<table border=\"1\" class=\"dataframe\">\n",
       "  <thead>\n",
       "    <tr style=\"text-align: right;\">\n",
       "      <th></th>\n",
       "      <th>Source.IP</th>\n",
       "      <th>Source.Port</th>\n",
       "      <th>Destination.IP</th>\n",
       "      <th>Destination.Port</th>\n",
       "      <th>Protocol</th>\n",
       "      <th>Flow.Duration</th>\n",
       "      <th>Total.Fwd.Packets</th>\n",
       "      <th>Total.Backward.Packets</th>\n",
       "      <th>Total.Length.of.Fwd.Packets</th>\n",
       "      <th>Total.Length.of.Bwd.Packets</th>\n",
       "      <th>...</th>\n",
       "      <th>Active.Mean</th>\n",
       "      <th>Active.Std</th>\n",
       "      <th>Active.Max</th>\n",
       "      <th>Active.Min</th>\n",
       "      <th>Idle.Mean</th>\n",
       "      <th>Idle.Std</th>\n",
       "      <th>Idle.Max</th>\n",
       "      <th>Idle.Min</th>\n",
       "      <th>L7Protocol</th>\n",
       "      <th>ProtocolName</th>\n",
       "    </tr>\n",
       "  </thead>\n",
       "  <tbody>\n",
       "    <tr>\n",
       "      <th>0</th>\n",
       "      <td>3232238138</td>\n",
       "      <td>55681</td>\n",
       "      <td>180881158</td>\n",
       "      <td>3128</td>\n",
       "      <td>6</td>\n",
       "      <td>19002242</td>\n",
       "      <td>3</td>\n",
       "      <td>17</td>\n",
       "      <td>6</td>\n",
       "      <td>30.0</td>\n",
       "      <td>...</td>\n",
       "      <td>7352281.0</td>\n",
       "      <td>0.000000</td>\n",
       "      <td>7352281.0</td>\n",
       "      <td>7352281.0</td>\n",
       "      <td>11649832.0</td>\n",
       "      <td>0.000000e+00</td>\n",
       "      <td>11649832.0</td>\n",
       "      <td>11649832.0</td>\n",
       "      <td>131</td>\n",
       "      <td>HTTP_PROXY</td>\n",
       "    </tr>\n",
       "    <tr>\n",
       "      <th>1</th>\n",
       "      <td>180881160</td>\n",
       "      <td>3128</td>\n",
       "      <td>3232246304</td>\n",
       "      <td>53107</td>\n",
       "      <td>6</td>\n",
       "      <td>119684671</td>\n",
       "      <td>1006</td>\n",
       "      <td>898</td>\n",
       "      <td>1398550</td>\n",
       "      <td>5388.0</td>\n",
       "      <td>...</td>\n",
       "      <td>0.0</td>\n",
       "      <td>0.000000</td>\n",
       "      <td>0.0</td>\n",
       "      <td>0.0</td>\n",
       "      <td>0.0</td>\n",
       "      <td>0.000000e+00</td>\n",
       "      <td>0.0</td>\n",
       "      <td>0.0</td>\n",
       "      <td>131</td>\n",
       "      <td>HTTP_PROXY</td>\n",
       "    </tr>\n",
       "    <tr>\n",
       "      <th>2</th>\n",
       "      <td>3232243804</td>\n",
       "      <td>59584</td>\n",
       "      <td>180881158</td>\n",
       "      <td>3128</td>\n",
       "      <td>6</td>\n",
       "      <td>118953292</td>\n",
       "      <td>24</td>\n",
       "      <td>66</td>\n",
       "      <td>1325</td>\n",
       "      <td>5077.0</td>\n",
       "      <td>...</td>\n",
       "      <td>336393.6</td>\n",
       "      <td>238675.043634</td>\n",
       "      <td>655083.0</td>\n",
       "      <td>172.0</td>\n",
       "      <td>23388871.8</td>\n",
       "      <td>7.972935e+06</td>\n",
       "      <td>29761260.0</td>\n",
       "      <td>12118217.0</td>\n",
       "      <td>131</td>\n",
       "      <td>HTTP_PROXY</td>\n",
       "    </tr>\n",
       "    <tr>\n",
       "      <th>3</th>\n",
       "      <td>182845710</td>\n",
       "      <td>53446</td>\n",
       "      <td>180881157</td>\n",
       "      <td>3128</td>\n",
       "      <td>6</td>\n",
       "      <td>59992665</td>\n",
       "      <td>3</td>\n",
       "      <td>3</td>\n",
       "      <td>18</td>\n",
       "      <td>63.0</td>\n",
       "      <td>...</td>\n",
       "      <td>120.0</td>\n",
       "      <td>91.923882</td>\n",
       "      <td>185.0</td>\n",
       "      <td>55.0</td>\n",
       "      <td>29995813.0</td>\n",
       "      <td>2.121108e+07</td>\n",
       "      <td>44994310.0</td>\n",
       "      <td>14997316.0</td>\n",
       "      <td>131</td>\n",
       "      <td>HTTP_PROXY</td>\n",
       "    </tr>\n",
       "    <tr>\n",
       "      <th>4</th>\n",
       "      <td>3232254003</td>\n",
       "      <td>21192</td>\n",
       "      <td>180881159</td>\n",
       "      <td>3128</td>\n",
       "      <td>6</td>\n",
       "      <td>1413924</td>\n",
       "      <td>22</td>\n",
       "      <td>0</td>\n",
       "      <td>4622</td>\n",
       "      <td>0.0</td>\n",
       "      <td>...</td>\n",
       "      <td>0.0</td>\n",
       "      <td>0.000000</td>\n",
       "      <td>0.0</td>\n",
       "      <td>0.0</td>\n",
       "      <td>0.0</td>\n",
       "      <td>0.000000e+00</td>\n",
       "      <td>0.0</td>\n",
       "      <td>0.0</td>\n",
       "      <td>131</td>\n",
       "      <td>HTTP_PROXY</td>\n",
       "    </tr>\n",
       "  </tbody>\n",
       "</table>\n",
       "<p>5 rows × 74 columns</p>\n",
       "</div>"
      ],
      "text/plain": [
       "    Source.IP  Source.Port  Destination.IP  Destination.Port  Protocol  \\\n",
       "0  3232238138        55681       180881158              3128         6   \n",
       "1   180881160         3128      3232246304             53107         6   \n",
       "2  3232243804        59584       180881158              3128         6   \n",
       "3   182845710        53446       180881157              3128         6   \n",
       "4  3232254003        21192       180881159              3128         6   \n",
       "\n",
       "   Flow.Duration  Total.Fwd.Packets  Total.Backward.Packets  \\\n",
       "0       19002242                  3                      17   \n",
       "1      119684671               1006                     898   \n",
       "2      118953292                 24                      66   \n",
       "3       59992665                  3                       3   \n",
       "4        1413924                 22                       0   \n",
       "\n",
       "   Total.Length.of.Fwd.Packets  Total.Length.of.Bwd.Packets  ...  Active.Mean  \\\n",
       "0                            6                         30.0  ...    7352281.0   \n",
       "1                      1398550                       5388.0  ...          0.0   \n",
       "2                         1325                       5077.0  ...     336393.6   \n",
       "3                           18                         63.0  ...        120.0   \n",
       "4                         4622                          0.0  ...          0.0   \n",
       "\n",
       "      Active.Std  Active.Max  Active.Min   Idle.Mean      Idle.Std  \\\n",
       "0       0.000000   7352281.0   7352281.0  11649832.0  0.000000e+00   \n",
       "1       0.000000         0.0         0.0         0.0  0.000000e+00   \n",
       "2  238675.043634    655083.0       172.0  23388871.8  7.972935e+06   \n",
       "3      91.923882       185.0        55.0  29995813.0  2.121108e+07   \n",
       "4       0.000000         0.0         0.0         0.0  0.000000e+00   \n",
       "\n",
       "     Idle.Max    Idle.Min  L7Protocol  ProtocolName  \n",
       "0  11649832.0  11649832.0         131    HTTP_PROXY  \n",
       "1         0.0         0.0         131    HTTP_PROXY  \n",
       "2  29761260.0  12118217.0         131    HTTP_PROXY  \n",
       "3  44994310.0  14997316.0         131    HTTP_PROXY  \n",
       "4         0.0         0.0         131    HTTP_PROXY  \n",
       "\n",
       "[5 rows x 74 columns]"
      ]
     },
     "execution_count": 3,
     "metadata": {},
     "output_type": "execute_result"
    }
   ],
   "source": [
    "datasetPath = \"../Dataset/balanced-74Attributes-top17_ProtocolName.csv\"\n",
    "df = pd.read_csv(datasetPath)\n",
    "#df = pd.read_csv(datasetPath, nrows=100000)\n",
    "df.head()"
   ]
  },
  {
   "cell_type": "code",
   "execution_count": 4,
   "metadata": {},
   "outputs": [],
   "source": [
    "#df.drop(['Source.IP', 'Destination.IP'], axis = 1, inplace = True)\n",
    "#df.drop(['Source.Port', 'Destination.Port'], axis = 1, inplace = True)"
   ]
  },
  {
   "cell_type": "code",
   "execution_count": 5,
   "metadata": {},
   "outputs": [
    {
     "data": {
      "text/html": [
       "<div>\n",
       "<style scoped>\n",
       "    .dataframe tbody tr th:only-of-type {\n",
       "        vertical-align: middle;\n",
       "    }\n",
       "\n",
       "    .dataframe tbody tr th {\n",
       "        vertical-align: top;\n",
       "    }\n",
       "\n",
       "    .dataframe thead th {\n",
       "        text-align: right;\n",
       "    }\n",
       "</style>\n",
       "<table border=\"1\" class=\"dataframe\">\n",
       "  <thead>\n",
       "    <tr style=\"text-align: right;\">\n",
       "      <th></th>\n",
       "      <th>Source.IP</th>\n",
       "      <th>Source.Port</th>\n",
       "      <th>Destination.IP</th>\n",
       "      <th>Destination.Port</th>\n",
       "      <th>Protocol</th>\n",
       "      <th>Flow.Duration</th>\n",
       "      <th>Total.Fwd.Packets</th>\n",
       "      <th>Total.Backward.Packets</th>\n",
       "      <th>Total.Length.of.Fwd.Packets</th>\n",
       "      <th>Total.Length.of.Bwd.Packets</th>\n",
       "      <th>...</th>\n",
       "      <th>Active.Mean</th>\n",
       "      <th>Active.Std</th>\n",
       "      <th>Active.Max</th>\n",
       "      <th>Active.Min</th>\n",
       "      <th>Idle.Mean</th>\n",
       "      <th>Idle.Std</th>\n",
       "      <th>Idle.Max</th>\n",
       "      <th>Idle.Min</th>\n",
       "      <th>L7Protocol</th>\n",
       "      <th>ProtocolName</th>\n",
       "    </tr>\n",
       "  </thead>\n",
       "  <tbody>\n",
       "    <tr>\n",
       "      <th>0</th>\n",
       "      <td>3232238138</td>\n",
       "      <td>55681</td>\n",
       "      <td>180881158</td>\n",
       "      <td>3128</td>\n",
       "      <td>6</td>\n",
       "      <td>19002242</td>\n",
       "      <td>3</td>\n",
       "      <td>17</td>\n",
       "      <td>6</td>\n",
       "      <td>30.0</td>\n",
       "      <td>...</td>\n",
       "      <td>7352281.0</td>\n",
       "      <td>0.000000</td>\n",
       "      <td>7352281.0</td>\n",
       "      <td>7352281.0</td>\n",
       "      <td>11649832.0</td>\n",
       "      <td>0.000000e+00</td>\n",
       "      <td>11649832.0</td>\n",
       "      <td>11649832.0</td>\n",
       "      <td>131</td>\n",
       "      <td>8</td>\n",
       "    </tr>\n",
       "    <tr>\n",
       "      <th>1</th>\n",
       "      <td>180881160</td>\n",
       "      <td>3128</td>\n",
       "      <td>3232246304</td>\n",
       "      <td>53107</td>\n",
       "      <td>6</td>\n",
       "      <td>119684671</td>\n",
       "      <td>1006</td>\n",
       "      <td>898</td>\n",
       "      <td>1398550</td>\n",
       "      <td>5388.0</td>\n",
       "      <td>...</td>\n",
       "      <td>0.0</td>\n",
       "      <td>0.000000</td>\n",
       "      <td>0.0</td>\n",
       "      <td>0.0</td>\n",
       "      <td>0.0</td>\n",
       "      <td>0.000000e+00</td>\n",
       "      <td>0.0</td>\n",
       "      <td>0.0</td>\n",
       "      <td>131</td>\n",
       "      <td>8</td>\n",
       "    </tr>\n",
       "    <tr>\n",
       "      <th>2</th>\n",
       "      <td>3232243804</td>\n",
       "      <td>59584</td>\n",
       "      <td>180881158</td>\n",
       "      <td>3128</td>\n",
       "      <td>6</td>\n",
       "      <td>118953292</td>\n",
       "      <td>24</td>\n",
       "      <td>66</td>\n",
       "      <td>1325</td>\n",
       "      <td>5077.0</td>\n",
       "      <td>...</td>\n",
       "      <td>336393.6</td>\n",
       "      <td>238675.043634</td>\n",
       "      <td>655083.0</td>\n",
       "      <td>172.0</td>\n",
       "      <td>23388871.8</td>\n",
       "      <td>7.972935e+06</td>\n",
       "      <td>29761260.0</td>\n",
       "      <td>12118217.0</td>\n",
       "      <td>131</td>\n",
       "      <td>8</td>\n",
       "    </tr>\n",
       "    <tr>\n",
       "      <th>3</th>\n",
       "      <td>182845710</td>\n",
       "      <td>53446</td>\n",
       "      <td>180881157</td>\n",
       "      <td>3128</td>\n",
       "      <td>6</td>\n",
       "      <td>59992665</td>\n",
       "      <td>3</td>\n",
       "      <td>3</td>\n",
       "      <td>18</td>\n",
       "      <td>63.0</td>\n",
       "      <td>...</td>\n",
       "      <td>120.0</td>\n",
       "      <td>91.923882</td>\n",
       "      <td>185.0</td>\n",
       "      <td>55.0</td>\n",
       "      <td>29995813.0</td>\n",
       "      <td>2.121108e+07</td>\n",
       "      <td>44994310.0</td>\n",
       "      <td>14997316.0</td>\n",
       "      <td>131</td>\n",
       "      <td>8</td>\n",
       "    </tr>\n",
       "    <tr>\n",
       "      <th>4</th>\n",
       "      <td>3232254003</td>\n",
       "      <td>21192</td>\n",
       "      <td>180881159</td>\n",
       "      <td>3128</td>\n",
       "      <td>6</td>\n",
       "      <td>1413924</td>\n",
       "      <td>22</td>\n",
       "      <td>0</td>\n",
       "      <td>4622</td>\n",
       "      <td>0.0</td>\n",
       "      <td>...</td>\n",
       "      <td>0.0</td>\n",
       "      <td>0.000000</td>\n",
       "      <td>0.0</td>\n",
       "      <td>0.0</td>\n",
       "      <td>0.0</td>\n",
       "      <td>0.000000e+00</td>\n",
       "      <td>0.0</td>\n",
       "      <td>0.0</td>\n",
       "      <td>131</td>\n",
       "      <td>8</td>\n",
       "    </tr>\n",
       "  </tbody>\n",
       "</table>\n",
       "<p>5 rows × 74 columns</p>\n",
       "</div>"
      ],
      "text/plain": [
       "    Source.IP  Source.Port  Destination.IP  Destination.Port  Protocol  \\\n",
       "0  3232238138        55681       180881158              3128         6   \n",
       "1   180881160         3128      3232246304             53107         6   \n",
       "2  3232243804        59584       180881158              3128         6   \n",
       "3   182845710        53446       180881157              3128         6   \n",
       "4  3232254003        21192       180881159              3128         6   \n",
       "\n",
       "   Flow.Duration  Total.Fwd.Packets  Total.Backward.Packets  \\\n",
       "0       19002242                  3                      17   \n",
       "1      119684671               1006                     898   \n",
       "2      118953292                 24                      66   \n",
       "3       59992665                  3                       3   \n",
       "4        1413924                 22                       0   \n",
       "\n",
       "   Total.Length.of.Fwd.Packets  Total.Length.of.Bwd.Packets  ...  Active.Mean  \\\n",
       "0                            6                         30.0  ...    7352281.0   \n",
       "1                      1398550                       5388.0  ...          0.0   \n",
       "2                         1325                       5077.0  ...     336393.6   \n",
       "3                           18                         63.0  ...        120.0   \n",
       "4                         4622                          0.0  ...          0.0   \n",
       "\n",
       "      Active.Std  Active.Max  Active.Min   Idle.Mean      Idle.Std  \\\n",
       "0       0.000000   7352281.0   7352281.0  11649832.0  0.000000e+00   \n",
       "1       0.000000         0.0         0.0         0.0  0.000000e+00   \n",
       "2  238675.043634    655083.0       172.0  23388871.8  7.972935e+06   \n",
       "3      91.923882       185.0        55.0  29995813.0  2.121108e+07   \n",
       "4       0.000000         0.0         0.0         0.0  0.000000e+00   \n",
       "\n",
       "     Idle.Max    Idle.Min  L7Protocol  ProtocolName  \n",
       "0  11649832.0  11649832.0         131             8  \n",
       "1         0.0         0.0         131             8  \n",
       "2  29761260.0  12118217.0         131             8  \n",
       "3  44994310.0  14997316.0         131             8  \n",
       "4         0.0         0.0         131             8  \n",
       "\n",
       "[5 rows x 74 columns]"
      ]
     },
     "execution_count": 5,
     "metadata": {},
     "output_type": "execute_result"
    }
   ],
   "source": [
    "# Encode label for ProtocolName column\n",
    "\n",
    "encoder = LabelEncoder().fit(df['ProtocolName'])\n",
    "df['ProtocolName'] = encoder.fit_transform(df['ProtocolName'])\n",
    "df.head()"
   ]
  },
  {
   "cell_type": "code",
   "execution_count": 6,
   "metadata": {},
   "outputs": [],
   "source": [
    "X = df.drop('ProtocolName',axis=1)\n",
    "Y = df['ProtocolName']\n",
    "dummy_y = np_utils.to_categorical(Y)\n",
    "\n",
    "X_train, X_test, y_train, y_test = train_test_split(X, dummy_y, train_size=0.7, random_state=42)"
   ]
  },
  {
   "cell_type": "code",
   "execution_count": 7,
   "metadata": {},
   "outputs": [],
   "source": [
    "scaler = MinMaxScaler()\n",
    "X_train = scaler.fit_transform(X_train)\n",
    "X_test = scaler.transform(X_test)"
   ]
  },
  {
   "cell_type": "code",
   "execution_count": 8,
   "metadata": {},
   "outputs": [],
   "source": [
    "input_shape = X_train.shape[1:]\n",
    "num_classes = y_train.shape[1]"
   ]
  },
  {
   "cell_type": "markdown",
   "metadata": {},
   "source": [
    "## Train Model"
   ]
  },
  {
   "cell_type": "code",
   "execution_count": 9,
   "metadata": {},
   "outputs": [],
   "source": [
    "import tensorflow.keras.backend as K\n",
    "\n",
    "def recall_m(y_true, y_pred):\n",
    "    true_positives = K.sum(K.round(K.clip(y_true * y_pred, 0, 1)))\n",
    "    possible_positives = K.sum(K.round(K.clip(y_true, 0, 1)))\n",
    "    recall = true_positives / (possible_positives + K.epsilon())\n",
    "    return recall\n",
    "\n",
    "def precision_m(y_true, y_pred):\n",
    "    true_positives = K.sum(K.round(K.clip(y_true * y_pred, 0, 1)))\n",
    "    predicted_positives = K.sum(K.round(K.clip(y_pred, 0, 1)))\n",
    "    precision = true_positives / (predicted_positives + K.epsilon())\n",
    "    return precision\n",
    "\n",
    "def f1_m(y_true, y_pred):\n",
    "    precision = precision_m(y_true, y_pred)\n",
    "    recall = recall_m(y_true, y_pred)\n",
    "    return 2*((precision*recall)/(precision+recall+K.epsilon()))\n",
    "\n",
    "\n",
    "# yukarıdakiler yerine bu da kullanılabilir\n",
    "from sklearn.metrics import f1_score, precision_score, recall_score, confusion_matrix"
   ]
  },
  {
   "cell_type": "code",
   "execution_count": 10,
   "metadata": {},
   "outputs": [
    {
     "name": "stdout",
     "output_type": "stream",
     "text": [
      "Model: \"model\"\n",
      "_________________________________________________________________\n",
      "Layer (type)                 Output Shape              Param #   \n",
      "=================================================================\n",
      "input_1 (InputLayer)         [(None, 73)]              0         \n",
      "_________________________________________________________________\n",
      "dense (Dense)                (None, 256)               18944     \n",
      "_________________________________________________________________\n",
      "dense_1 (Dense)              (None, 128)               32896     \n",
      "_________________________________________________________________\n",
      "dense_2 (Dense)              (None, 128)               16512     \n",
      "_________________________________________________________________\n",
      "dense_3 (Dense)              (None, 17)                2193      \n",
      "=================================================================\n",
      "Total params: 70,545\n",
      "Trainable params: 70,545\n",
      "Non-trainable params: 0\n",
      "_________________________________________________________________\n"
     ]
    }
   ],
   "source": [
    "# Build the model using functional Api\n",
    "i = Input(shape=input_shape)\n",
    "x = Dense(256, activation=\"relu\")(i)\n",
    "x = Dense(128, activation=\"relu\")(x)\n",
    "x = Dense(128, activation=\"relu\")(x)\n",
    "#x = Dense(64, activation=\"relu\")(i)\n",
    "x = Dense(num_classes, activation=\"softmax\")(x)\n",
    "\n",
    "model = Model(i, x)\n",
    "model.summary()"
   ]
  },
  {
   "cell_type": "code",
   "execution_count": 11,
   "metadata": {},
   "outputs": [],
   "source": [
    "checkpoint_filepath = 'checkpoints/checkpoint'\n",
    "model_checkpoint_callback = tf.keras.callbacks.ModelCheckpoint(\n",
    "    filepath=checkpoint_filepath,\n",
    "    save_weights_only=True,\n",
    "    monitor='val_accuracy',\n",
    "    mode='max',\n",
    "    save_best_only=True)"
   ]
  },
  {
   "cell_type": "code",
   "execution_count": 12,
   "metadata": {},
   "outputs": [],
   "source": [
    "model.compile(loss='categorical_crossentropy', optimizer='adam', metrics=['accuracy'])\n",
    "#model.compile(loss='categorical_crossentropy', optimizer='adam', metrics=['accuracy', precision_m, recall_m, f1_m])"
   ]
  },
  {
   "cell_type": "code",
   "execution_count": 13,
   "metadata": {},
   "outputs": [],
   "source": [
    "%load_ext memory_profiler"
   ]
  },
  {
   "cell_type": "code",
   "execution_count": 14,
   "metadata": {},
   "outputs": [
    {
     "name": "stdout",
     "output_type": "stream",
     "text": [
      "Epoch 1/100\n",
      "2692/2692 [==============================] - 4s 1ms/step - loss: 1.1078 - accuracy: 0.6190 - val_loss: 0.4328 - val_accuracy: 0.8407\n",
      "Epoch 2/100\n",
      "2692/2692 [==============================] - 3s 1ms/step - loss: 0.4166 - accuracy: 0.8403 - val_loss: 0.3444 - val_accuracy: 0.8499\n",
      "Epoch 3/100\n",
      "2692/2692 [==============================] - 3s 1ms/step - loss: 0.3293 - accuracy: 0.8764 - val_loss: 0.2468 - val_accuracy: 0.9161\n",
      "Epoch 4/100\n",
      "2692/2692 [==============================] - 4s 1ms/step - loss: 0.2777 - accuracy: 0.8988 - val_loss: 0.4078 - val_accuracy: 0.8664\n",
      "Epoch 5/100\n",
      "2692/2692 [==============================] - 4s 1ms/step - loss: 0.2258 - accuracy: 0.9184 - val_loss: 0.3993 - val_accuracy: 0.8372\n",
      "Epoch 6/100\n",
      "2692/2692 [==============================] - 3s 1ms/step - loss: 0.2015 - accuracy: 0.9278 - val_loss: 0.1492 - val_accuracy: 0.9497\n",
      "Epoch 7/100\n",
      "2692/2692 [==============================] - 3s 1ms/step - loss: 0.1901 - accuracy: 0.9322 - val_loss: 0.1523 - val_accuracy: 0.9417\n",
      "Epoch 8/100\n",
      "2692/2692 [==============================] - 4s 1ms/step - loss: 0.1832 - accuracy: 0.9340 - val_loss: 0.2273 - val_accuracy: 0.9042\n",
      "Epoch 9/100\n",
      "2692/2692 [==============================] - 3s 1ms/step - loss: 0.1710 - accuracy: 0.9385 - val_loss: 0.1104 - val_accuracy: 0.9658\n",
      "Epoch 10/100\n",
      "2692/2692 [==============================] - 3s 1ms/step - loss: 0.1566 - accuracy: 0.9428 - val_loss: 0.2273 - val_accuracy: 0.9152\n",
      "Epoch 11/100\n",
      "2692/2692 [==============================] - 4s 1ms/step - loss: 0.1611 - accuracy: 0.9417 - val_loss: 0.1680 - val_accuracy: 0.9415\n",
      "Epoch 12/100\n",
      "2692/2692 [==============================] - 4s 1ms/step - loss: 0.1353 - accuracy: 0.9500 - val_loss: 0.2521 - val_accuracy: 0.9135\n",
      "Epoch 13/100\n",
      "2692/2692 [==============================] - 4s 1ms/step - loss: 0.1386 - accuracy: 0.9505 - val_loss: 0.1175 - val_accuracy: 0.9581\n",
      "Epoch 14/100\n",
      "2692/2692 [==============================] - 4s 1ms/step - loss: 0.1326 - accuracy: 0.9515 - val_loss: 0.0826 - val_accuracy: 0.9732\n",
      "Epoch 15/100\n",
      "2692/2692 [==============================] - 3s 1ms/step - loss: 0.1384 - accuracy: 0.9507 - val_loss: 0.1217 - val_accuracy: 0.9551\n",
      "Epoch 16/100\n",
      "2692/2692 [==============================] - 4s 1ms/step - loss: 0.1189 - accuracy: 0.9574 - val_loss: 0.0637 - val_accuracy: 0.9815\n",
      "Epoch 17/100\n",
      "2692/2692 [==============================] - 4s 1ms/step - loss: 0.1217 - accuracy: 0.9543 - val_loss: 0.0751 - val_accuracy: 0.9741\n",
      "Epoch 18/100\n",
      "2692/2692 [==============================] - 3s 1ms/step - loss: 0.1281 - accuracy: 0.9551 - val_loss: 0.3383 - val_accuracy: 0.9100\n",
      "Epoch 19/100\n",
      "2692/2692 [==============================] - 3s 1ms/step - loss: 0.1154 - accuracy: 0.9571 - val_loss: 0.2248 - val_accuracy: 0.9248\n",
      "Epoch 20/100\n",
      "2692/2692 [==============================] - 3s 1ms/step - loss: 0.0958 - accuracy: 0.9653 - val_loss: 0.1174 - val_accuracy: 0.9533\n",
      "Epoch 21/100\n",
      "2692/2692 [==============================] - 3s 1ms/step - loss: 0.1133 - accuracy: 0.9624 - val_loss: 0.0912 - val_accuracy: 0.9668\n",
      "Epoch 22/100\n",
      "2692/2692 [==============================] - 3s 1ms/step - loss: 0.1018 - accuracy: 0.9633 - val_loss: 0.0629 - val_accuracy: 0.9770\n",
      "Epoch 23/100\n",
      "2692/2692 [==============================] - 3s 1ms/step - loss: 0.1065 - accuracy: 0.9627 - val_loss: 0.0700 - val_accuracy: 0.9786\n",
      "Epoch 24/100\n",
      "2692/2692 [==============================] - 3s 1ms/step - loss: 0.0928 - accuracy: 0.9674 - val_loss: 0.2239 - val_accuracy: 0.9140\n",
      "Epoch 25/100\n",
      "2692/2692 [==============================] - 3s 1ms/step - loss: 0.0958 - accuracy: 0.9655 - val_loss: 0.0580 - val_accuracy: 0.9814\n",
      "Epoch 26/100\n",
      "2692/2692 [==============================] - 3s 1ms/step - loss: 0.0856 - accuracy: 0.9705 - val_loss: 0.0662 - val_accuracy: 0.9802\n",
      "Epoch 27/100\n",
      "2692/2692 [==============================] - 3s 1ms/step - loss: 0.0812 - accuracy: 0.9718 - val_loss: 0.3833 - val_accuracy: 0.8634\n",
      "Epoch 28/100\n",
      "2692/2692 [==============================] - 3s 1ms/step - loss: 0.0944 - accuracy: 0.9664 - val_loss: 0.0790 - val_accuracy: 0.9748\n",
      "Epoch 29/100\n",
      "2692/2692 [==============================] - 3s 1ms/step - loss: 0.0824 - accuracy: 0.9702 - val_loss: 0.0428 - val_accuracy: 0.9873\n",
      "Epoch 30/100\n",
      "2692/2692 [==============================] - 3s 1ms/step - loss: 0.0761 - accuracy: 0.9728 - val_loss: 0.0392 - val_accuracy: 0.9883\n",
      "Epoch 31/100\n",
      "2692/2692 [==============================] - 3s 1ms/step - loss: 0.0862 - accuracy: 0.9699 - val_loss: 0.2682 - val_accuracy: 0.9016\n",
      "Epoch 32/100\n",
      "2692/2692 [==============================] - 3s 1ms/step - loss: 0.0830 - accuracy: 0.9709 - val_loss: 0.0796 - val_accuracy: 0.9726\n",
      "Epoch 33/100\n",
      "2692/2692 [==============================] - 3s 1ms/step - loss: 0.0701 - accuracy: 0.9760 - val_loss: 0.1147 - val_accuracy: 0.9551\n",
      "Epoch 34/100\n",
      "2692/2692 [==============================] - 3s 1ms/step - loss: 0.1072 - accuracy: 0.9656 - val_loss: 0.1096 - val_accuracy: 0.9553\n",
      "Epoch 35/100\n",
      "2692/2692 [==============================] - 3s 1ms/step - loss: 0.0758 - accuracy: 0.9737 - val_loss: 0.2517 - val_accuracy: 0.9159\n",
      "Epoch 36/100\n",
      "2692/2692 [==============================] - 3s 1ms/step - loss: 0.0785 - accuracy: 0.9719 - val_loss: 0.0585 - val_accuracy: 0.9798\n",
      "Epoch 37/100\n",
      "2692/2692 [==============================] - 3s 1ms/step - loss: 0.0787 - accuracy: 0.9727 - val_loss: 0.0545 - val_accuracy: 0.9796\n",
      "Epoch 38/100\n",
      "2692/2692 [==============================] - 3s 1ms/step - loss: 0.0901 - accuracy: 0.9681 - val_loss: 0.1053 - val_accuracy: 0.9531\n",
      "Epoch 39/100\n",
      "2692/2692 [==============================] - 3s 1ms/step - loss: 0.0623 - accuracy: 0.9785 - val_loss: 0.0625 - val_accuracy: 0.9792\n",
      "Epoch 40/100\n",
      "2692/2692 [==============================] - 3s 1ms/step - loss: 0.0707 - accuracy: 0.9766 - val_loss: 0.0596 - val_accuracy: 0.9801\n",
      "Epoch 41/100\n",
      "2692/2692 [==============================] - 3s 1ms/step - loss: 0.0662 - accuracy: 0.9774 - val_loss: 0.0647 - val_accuracy: 0.9817\n",
      "Epoch 42/100\n",
      "2692/2692 [==============================] - 3s 1ms/step - loss: 0.0579 - accuracy: 0.9802 - val_loss: 0.0838 - val_accuracy: 0.9652\n",
      "Epoch 43/100\n",
      "2692/2692 [==============================] - 3s 1ms/step - loss: 0.0577 - accuracy: 0.9797 - val_loss: 0.0548 - val_accuracy: 0.9793\n",
      "Epoch 44/100\n",
      "2692/2692 [==============================] - 3s 1ms/step - loss: 0.0617 - accuracy: 0.9783 - val_loss: 0.0511 - val_accuracy: 0.9867\n",
      "Epoch 45/100\n",
      "2692/2692 [==============================] - 3s 1ms/step - loss: 0.0567 - accuracy: 0.9804 - val_loss: 0.0345 - val_accuracy: 0.9901\n",
      "Epoch 46/100\n",
      "2692/2692 [==============================] - 3s 1ms/step - loss: 0.0643 - accuracy: 0.9783 - val_loss: 0.4676 - val_accuracy: 0.8707\n",
      "Epoch 47/100\n",
      "2692/2692 [==============================] - 3s 1ms/step - loss: 0.0850 - accuracy: 0.9731 - val_loss: 0.0511 - val_accuracy: 0.9843\n",
      "Epoch 48/100\n",
      "2692/2692 [==============================] - 3s 1ms/step - loss: 0.0676 - accuracy: 0.9770 - val_loss: 0.0451 - val_accuracy: 0.9859\n",
      "Epoch 49/100\n",
      "2692/2692 [==============================] - 3s 1ms/step - loss: 0.0563 - accuracy: 0.9818 - val_loss: 0.0371 - val_accuracy: 0.9887\n",
      "Epoch 50/100\n",
      "2692/2692 [==============================] - 3s 1ms/step - loss: 0.0668 - accuracy: 0.9776 - val_loss: 0.1267 - val_accuracy: 0.9518\n",
      "Epoch 51/100\n",
      "2692/2692 [==============================] - 3s 1ms/step - loss: 0.0776 - accuracy: 0.9746 - val_loss: 0.1610 - val_accuracy: 0.9415\n",
      "Epoch 52/100\n",
      "2692/2692 [==============================] - 3s 1ms/step - loss: 0.0635 - accuracy: 0.9783 - val_loss: 0.0478 - val_accuracy: 0.9857\n",
      "Epoch 53/100\n",
      "2692/2692 [==============================] - 3s 1ms/step - loss: 0.0592 - accuracy: 0.9796 - val_loss: 0.0638 - val_accuracy: 0.9806\n",
      "Epoch 54/100\n",
      "2692/2692 [==============================] - 3s 1ms/step - loss: 0.0560 - accuracy: 0.9808 - val_loss: 0.0392 - val_accuracy: 0.9892\n",
      "Epoch 55/100\n",
      "2692/2692 [==============================] - 3s 1ms/step - loss: 0.0536 - accuracy: 0.9816 - val_loss: 0.0960 - val_accuracy: 0.9674\n",
      "Epoch 56/100\n",
      "2692/2692 [==============================] - 3s 1ms/step - loss: 0.0693 - accuracy: 0.9763 - val_loss: 0.0320 - val_accuracy: 0.9903\n",
      "Epoch 57/100\n",
      "2692/2692 [==============================] - 3s 1ms/step - loss: 0.0508 - accuracy: 0.9823 - val_loss: 0.0448 - val_accuracy: 0.9875\n",
      "Epoch 58/100\n",
      "2692/2692 [==============================] - 3s 1ms/step - loss: 0.0647 - accuracy: 0.9801 - val_loss: 0.0363 - val_accuracy: 0.9901\n",
      "Epoch 59/100\n",
      "2692/2692 [==============================] - 3s 1ms/step - loss: 0.0649 - accuracy: 0.9778 - val_loss: 0.0391 - val_accuracy: 0.9886\n",
      "Epoch 60/100\n",
      "2692/2692 [==============================] - 3s 1ms/step - loss: 0.0497 - accuracy: 0.9824 - val_loss: 0.0512 - val_accuracy: 0.9838\n",
      "Epoch 61/100\n",
      "2692/2692 [==============================] - 3s 1ms/step - loss: 0.0620 - accuracy: 0.9789 - val_loss: 0.0845 - val_accuracy: 0.9770\n",
      "Epoch 62/100\n",
      "2692/2692 [==============================] - 3s 1ms/step - loss: 0.0549 - accuracy: 0.9812 - val_loss: 0.0442 - val_accuracy: 0.9884\n",
      "Epoch 63/100\n",
      "2692/2692 [==============================] - 3s 1ms/step - loss: 0.0596 - accuracy: 0.9814 - val_loss: 0.0319 - val_accuracy: 0.9920\n",
      "Epoch 64/100\n",
      "2692/2692 [==============================] - 3s 1ms/step - loss: 0.0808 - accuracy: 0.9765 - val_loss: 0.0537 - val_accuracy: 0.9827\n",
      "Epoch 65/100\n",
      "2692/2692 [==============================] - 3s 1ms/step - loss: 0.0552 - accuracy: 0.9818 - val_loss: 0.0284 - val_accuracy: 0.9921\n",
      "Epoch 66/100\n",
      "2692/2692 [==============================] - 3s 1ms/step - loss: 0.0478 - accuracy: 0.9829 - val_loss: 0.0714 - val_accuracy: 0.9736\n",
      "Epoch 67/100\n",
      "2692/2692 [==============================] - 3s 1ms/step - loss: 0.0617 - accuracy: 0.9793 - val_loss: 0.0886 - val_accuracy: 0.9748\n",
      "Epoch 68/100\n",
      "2692/2692 [==============================] - 4s 1ms/step - loss: 0.0511 - accuracy: 0.9826 - val_loss: 0.0560 - val_accuracy: 0.9841\n",
      "Epoch 69/100\n",
      "2692/2692 [==============================] - 3s 1ms/step - loss: 0.0503 - accuracy: 0.9829 - val_loss: 0.0298 - val_accuracy: 0.9926\n",
      "Epoch 70/100\n",
      "2692/2692 [==============================] - 3s 1ms/step - loss: 0.0428 - accuracy: 0.9856 - val_loss: 0.0641 - val_accuracy: 0.9799\n",
      "Epoch 71/100\n",
      "2692/2692 [==============================] - 3s 1ms/step - loss: 0.0437 - accuracy: 0.9850 - val_loss: 0.1204 - val_accuracy: 0.9563\n",
      "Epoch 72/100\n",
      "2692/2692 [==============================] - 3s 1ms/step - loss: 0.0565 - accuracy: 0.9792 - val_loss: 0.0379 - val_accuracy: 0.9902\n",
      "Epoch 73/100\n",
      "2692/2692 [==============================] - 3s 1ms/step - loss: 0.0597 - accuracy: 0.9802 - val_loss: 0.0371 - val_accuracy: 0.9908\n",
      "Epoch 74/100\n",
      "2692/2692 [==============================] - 3s 1ms/step - loss: 0.0463 - accuracy: 0.9860 - val_loss: 0.0437 - val_accuracy: 0.9883\n",
      "Epoch 75/100\n",
      "2692/2692 [==============================] - 3s 1ms/step - loss: 0.0401 - accuracy: 0.9857 - val_loss: 0.0782 - val_accuracy: 0.9738\n",
      "Epoch 76/100\n",
      "2692/2692 [==============================] - 3s 1ms/step - loss: 0.0441 - accuracy: 0.9852 - val_loss: 0.0333 - val_accuracy: 0.9923\n",
      "Epoch 77/100\n",
      "2692/2692 [==============================] - 3s 1ms/step - loss: 0.0411 - accuracy: 0.9873 - val_loss: 0.0600 - val_accuracy: 0.9841\n",
      "Epoch 78/100\n",
      "2692/2692 [==============================] - 3s 1ms/step - loss: 0.0437 - accuracy: 0.9850 - val_loss: 0.0369 - val_accuracy: 0.9913\n",
      "Epoch 79/100\n",
      "2692/2692 [==============================] - 3s 1ms/step - loss: 0.0446 - accuracy: 0.9851 - val_loss: 0.0354 - val_accuracy: 0.9899\n",
      "Epoch 80/100\n",
      "2692/2692 [==============================] - 3s 1ms/step - loss: 0.0408 - accuracy: 0.9862 - val_loss: 0.0290 - val_accuracy: 0.9926\n",
      "Epoch 81/100\n",
      "2692/2692 [==============================] - 3s 1ms/step - loss: 0.0445 - accuracy: 0.9844 - val_loss: 0.0407 - val_accuracy: 0.9900\n",
      "Epoch 82/100\n",
      "2692/2692 [==============================] - 3s 1ms/step - loss: 0.0460 - accuracy: 0.9849 - val_loss: 0.0267 - val_accuracy: 0.9934\n",
      "Epoch 83/100\n",
      "2692/2692 [==============================] - 3s 1ms/step - loss: 0.0523 - accuracy: 0.9846 - val_loss: 0.0287 - val_accuracy: 0.9937\n",
      "Epoch 84/100\n",
      "2692/2692 [==============================] - 3s 1ms/step - loss: 0.0444 - accuracy: 0.9865 - val_loss: 0.0585 - val_accuracy: 0.9831\n",
      "Epoch 85/100\n",
      "2692/2692 [==============================] - 3s 1ms/step - loss: 0.0466 - accuracy: 0.9840 - val_loss: 0.0943 - val_accuracy: 0.9717\n",
      "Epoch 86/100\n",
      "2692/2692 [==============================] - 3s 1ms/step - loss: 0.0596 - accuracy: 0.9831 - val_loss: 0.0415 - val_accuracy: 0.9899\n",
      "Epoch 87/100\n",
      "2692/2692 [==============================] - 4s 1ms/step - loss: 0.0417 - accuracy: 0.9855 - val_loss: 0.0273 - val_accuracy: 0.9950\n",
      "Epoch 88/100\n",
      "2692/2692 [==============================] - 4s 1ms/step - loss: 0.0452 - accuracy: 0.9843 - val_loss: 0.0440 - val_accuracy: 0.9880\n",
      "Epoch 89/100\n",
      "2692/2692 [==============================] - 4s 1ms/step - loss: 0.0421 - accuracy: 0.9858 - val_loss: 0.2116 - val_accuracy: 0.9411\n",
      "Epoch 90/100\n",
      "2692/2692 [==============================] - 3s 1ms/step - loss: 0.0548 - accuracy: 0.9824 - val_loss: 0.0456 - val_accuracy: 0.9893\n",
      "Epoch 91/100\n",
      "2692/2692 [==============================] - 4s 1ms/step - loss: 0.0414 - accuracy: 0.9853 - val_loss: 0.0432 - val_accuracy: 0.9888\n",
      "Epoch 92/100\n",
      "2692/2692 [==============================] - 3s 1ms/step - loss: 0.0415 - accuracy: 0.9857 - val_loss: 0.0506 - val_accuracy: 0.9894\n",
      "Epoch 93/100\n",
      "2692/2692 [==============================] - 3s 1ms/step - loss: 0.0383 - accuracy: 0.9871 - val_loss: 0.0359 - val_accuracy: 0.9921\n",
      "Epoch 94/100\n",
      "2692/2692 [==============================] - 3s 1ms/step - loss: 0.0315 - accuracy: 0.9902 - val_loss: 0.0362 - val_accuracy: 0.9917\n",
      "Epoch 95/100\n",
      "2692/2692 [==============================] - 4s 1ms/step - loss: 0.0375 - accuracy: 0.9872 - val_loss: 0.0658 - val_accuracy: 0.9814\n",
      "Epoch 96/100\n",
      "2692/2692 [==============================] - 3s 1ms/step - loss: 0.0361 - accuracy: 0.9876 - val_loss: 0.0380 - val_accuracy: 0.9914\n",
      "Epoch 97/100\n",
      "2692/2692 [==============================] - 3s 1ms/step - loss: 0.0325 - accuracy: 0.9896 - val_loss: 0.0478 - val_accuracy: 0.9881\n",
      "Epoch 98/100\n",
      "2692/2692 [==============================] - 3s 1ms/step - loss: 0.0444 - accuracy: 0.9851 - val_loss: 0.1357 - val_accuracy: 0.9586\n",
      "Epoch 99/100\n",
      "2692/2692 [==============================] - 4s 1ms/step - loss: 0.0481 - accuracy: 0.9841 - val_loss: 0.0348 - val_accuracy: 0.9934\n",
      "Epoch 100/100\n",
      "2692/2692 [==============================] - 3s 1ms/step - loss: 0.0380 - accuracy: 0.9873 - val_loss: 0.0416 - val_accuracy: 0.9905\n",
      "peak memory: 1071.23 MiB, increment: 144.86 MiB\n",
      "CPU times: user 12min 27s, sys: 1min 53s, total: 14min 20s\n",
      "Wall time: 5min 39s\n"
     ]
    }
   ],
   "source": [
    "%%time\n",
    "%memit history = model.fit(X_train, y_train, validation_data=(X_test, y_test), epochs=100, batch_size=64, callbacks=[model_checkpoint_callback])"
   ]
  },
  {
   "cell_type": "code",
   "execution_count": 15,
   "metadata": {},
   "outputs": [
    {
     "name": "stdout",
     "output_type": "stream",
     "text": [
      "2308/2308 - 1s - loss: 0.0416 - accuracy: 0.9905\n",
      "peak memory: 1037.06 MiB, increment: 34.38 MiB\n",
      "CPU times: user 1.67 s, sys: 194 ms, total: 1.86 s\n",
      "Wall time: 1.23 s\n"
     ]
    }
   ],
   "source": [
    "%%time\n",
    "%memit loss, accuracy = model.evaluate(X_test, y_test, verbose=2)\n",
    "#%memit loss, accuracy, precision, recall, f1 = model.evaluate(X_test, y_test, verbose=2)"
   ]
  },
  {
   "cell_type": "code",
   "execution_count": 16,
   "metadata": {},
   "outputs": [
    {
     "name": "stdout",
     "output_type": "stream",
     "text": [
      "peak memory: 1037.82 MiB, increment: 41.60 MiB\n",
      "CPU times: user 1.03 s, sys: 113 ms, total: 1.15 s\n",
      "Wall time: 938 ms\n"
     ]
    }
   ],
   "source": [
    "%%time\n",
    "%memit r = model.predict(X_test)"
   ]
  },
  {
   "cell_type": "markdown",
   "metadata": {},
   "source": [
    "## Results"
   ]
  },
  {
   "cell_type": "code",
   "execution_count": 17,
   "metadata": {},
   "outputs": [],
   "source": [
    "precision = precision_m(y_test, r)\n",
    "recall = recall_m(y_test, r)\n",
    "f1 = f1_m(y_test, r)"
   ]
  },
  {
   "cell_type": "code",
   "execution_count": 18,
   "metadata": {},
   "outputs": [
    {
     "name": "stdout",
     "output_type": "stream",
     "text": [
      "Accuracy: 0.9904927015304565\n",
      "Loss: 0.041614994406700134\n",
      "Precsion: tf.Tensor(0.9905717, shape=(), dtype=float32)\n",
      "Recall: tf.Tensor(0.99033016, shape=(), dtype=float32)\n",
      "F1: tf.Tensor(0.99045086, shape=(), dtype=float32)\n"
     ]
    }
   ],
   "source": [
    "print(\"Accuracy:\", accuracy)\n",
    "print(\"Loss:\", loss)\n",
    "print(\"Precsion:\", precision)\n",
    "print(\"Recall:\", recall)\n",
    "print(\"F1:\", f1)"
   ]
  },
  {
   "cell_type": "code",
   "execution_count": 19,
   "metadata": {},
   "outputs": [
    {
     "data": {
      "image/png": "[encoded data removed]",
      "text/plain": [
       "<Figure size 432x288 with 1 Axes>"
      ]
     },
     "metadata": {
      "needs_background": "light"
     },
     "output_type": "display_data"
    }
   ],
   "source": [
    "x = [\"accuracy\", \"loss\", \"precision\", \"recall\", \"f1\"]\n",
    "scores = [accuracy, loss, precision, recall, f1]\n",
    "\n",
    "w = 0.2\n",
    "    \n",
    "bar1 = np.arange(len(x))\n",
    "plt.bar(bar1, scores, w, label=\"ann\")\n",
    "\n",
    "plt.gcf().set_size_inches(6, 4)\n",
    "plt.ylabel(\"Score %\")\n",
    "plt.title(\"ANN Classifier\")\n",
    "plt.xticks(bar1, x)\n",
    "plt.legend()\n",
    "plt.show()"
   ]
  },
  {
   "cell_type": "code",
   "execution_count": 20,
   "metadata": {},
   "outputs": [],
   "source": [
    "model.save(\"ANN.h5\")"
   ]
  },
  {
   "cell_type": "code",
   "execution_count": 21,
   "metadata": {},
   "outputs": [
    {
     "data": {
      "text/plain": [
       "<matplotlib.legend.Legend at 0x7faf6e6bb828>"
      ]
     },
     "execution_count": 21,
     "metadata": {},
     "output_type": "execute_result"
    },
    {
     "data": {
      "image/png": "[encoded data removed]",
      "text/plain": [
       "<Figure size 432x288 with 1 Axes>"
      ]
     },
     "metadata": {
      "needs_background": "light"
     },
     "output_type": "display_data"
    }
   ],
   "source": [
    "plt.plot(history.history['accuracy'])\n",
    "plt.plot(history.history['val_accuracy'])\n",
    "plt.title('Model accuracy')\n",
    "plt.ylabel('Accuracy')\n",
    "plt.xlabel('Epochs')\n",
    "plt.legend(['Training', 'Testing'], loc='upper left')"
   ]
  },
  {
   "cell_type": "code",
   "execution_count": 22,
   "metadata": {},
   "outputs": [
    {
     "data": {
      "text/plain": [
       "<matplotlib.legend.Legend at 0x7faf6e63de48>"
      ]
     },
     "execution_count": 22,
     "metadata": {},
     "output_type": "execute_result"
    },
    {
     "data": {
      "image/png": "[encoded data removed]",
      "text/plain": [
       "<Figure size 432x288 with 1 Axes>"
      ]
     },
     "metadata": {
      "needs_background": "light"
     },
     "output_type": "display_data"
    }
   ],
   "source": [
    "plt.plot(history.history['loss']) \n",
    "plt.plot(history.history['val_loss']) \n",
    "plt.title('Model loss') \n",
    "plt.ylabel('Loss') \n",
    "plt.xlabel('Epochs') \n",
    "plt.legend(['Training', 'Testing'], loc='upper left') "
   ]
  },
  {
   "cell_type": "code",
   "execution_count": 23,
   "metadata": {},
   "outputs": [],
   "source": [
    "p_test = model.predict(X_test).argmax(axis=1)\n",
    "_, _, _, y_test2 = train_test_split(X, Y, train_size=0.7, random_state=42)"
   ]
  },
  {
   "cell_type": "code",
   "execution_count": 24,
   "metadata": {},
   "outputs": [
    {
     "data": {
      "text/plain": [
       "<AxesSubplot:>"
      ]
     },
     "execution_count": 24,
     "metadata": {},
     "output_type": "execute_result"
    },
    {
     "data": {
      "image/png": "[encoded data removed]",
      "text/plain": [
       "<Figure size 864x720 with 2 Axes>"
      ]
     },
     "metadata": {
      "needs_background": "light"
     },
     "output_type": "display_data"
    }
   ],
   "source": [
    "import seaborn as sns\n",
    "\n",
    "p_test = model.predict(X_test).argmax(axis=1)\n",
    "cm = confusion_matrix(y_test2, p_test)\n",
    "fig, ax = plt.subplots(figsize=(12,10)) \n",
    "sns.heatmap(cm, annot=True, ax=ax, fmt='d', annot_kws={\"size\": 12})"
   ]
  },
  {
   "cell_type": "code",
   "execution_count": null,
   "metadata": {},
   "outputs": [],
   "source": []
  }
 ],
 "metadata": {
  "kernelspec": {
   "display_name": "Python 3",
   "language": "python",
   "name": "python3"
  },
  "language_info": {
   "codemirror_mode": {
    "name": "ipython",
    "version": 3
   },
   "file_extension": ".py",
   "mimetype": "text/x-python",
   "name": "python",
   "nbconvert_exporter": "python",
   "pygments_lexer": "ipython3",
   "version": "3.6.9"
  }
 },
 "nbformat": 4,
 "nbformat_minor": 4
}
