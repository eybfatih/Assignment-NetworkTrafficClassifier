{
 "cells": [
  {
   "cell_type": "markdown",
   "metadata": {},
   "source": [
    "# Preprocessing"
   ]
  },
  {
   "cell_type": "code",
   "execution_count": 1,
   "metadata": {},
   "outputs": [],
   "source": [
    "import numpy as np\n",
    "import pandas as pd\n",
    "import matplotlib.pyplot as plt\n",
    "\n",
    "import socket, struct"
   ]
  },
  {
   "cell_type": "code",
   "execution_count": 10,
   "metadata": {
    "scrolled": true
   },
   "outputs": [
    {
     "data": {
      "text/html": [
       "<div>\n",
       "<style scoped>\n",
       "    .dataframe tbody tr th:only-of-type {\n",
       "        vertical-align: middle;\n",
       "    }\n",
       "\n",
       "    .dataframe tbody tr th {\n",
       "        vertical-align: top;\n",
       "    }\n",
       "\n",
       "    .dataframe thead th {\n",
       "        text-align: right;\n",
       "    }\n",
       "</style>\n",
       "<table border=\"1\" class=\"dataframe\">\n",
       "  <thead>\n",
       "    <tr style=\"text-align: right;\">\n",
       "      <th></th>\n",
       "      <th>Flow.ID</th>\n",
       "      <th>Source.IP</th>\n",
       "      <th>Source.Port</th>\n",
       "      <th>Destination.IP</th>\n",
       "      <th>Destination.Port</th>\n",
       "      <th>Protocol</th>\n",
       "      <th>Timestamp</th>\n",
       "      <th>Flow.Duration</th>\n",
       "      <th>Total.Fwd.Packets</th>\n",
       "      <th>Total.Backward.Packets</th>\n",
       "      <th>...</th>\n",
       "      <th>Active.Std</th>\n",
       "      <th>Active.Max</th>\n",
       "      <th>Active.Min</th>\n",
       "      <th>Idle.Mean</th>\n",
       "      <th>Idle.Std</th>\n",
       "      <th>Idle.Max</th>\n",
       "      <th>Idle.Min</th>\n",
       "      <th>Label</th>\n",
       "      <th>L7Protocol</th>\n",
       "      <th>ProtocolName</th>\n",
       "    </tr>\n",
       "  </thead>\n",
       "  <tbody>\n",
       "    <tr>\n",
       "      <th>0</th>\n",
       "      <td>172.19.1.46-10.200.7.7-52422-3128-6</td>\n",
       "      <td>172.19.1.46</td>\n",
       "      <td>52422</td>\n",
       "      <td>10.200.7.7</td>\n",
       "      <td>3128</td>\n",
       "      <td>6</td>\n",
       "      <td>26/04/201711:11:17</td>\n",
       "      <td>45523</td>\n",
       "      <td>22</td>\n",
       "      <td>55</td>\n",
       "      <td>...</td>\n",
       "      <td>0.0</td>\n",
       "      <td>0.0</td>\n",
       "      <td>0.0</td>\n",
       "      <td>0.0</td>\n",
       "      <td>0.0</td>\n",
       "      <td>0.0</td>\n",
       "      <td>0.0</td>\n",
       "      <td>BENIGN</td>\n",
       "      <td>131</td>\n",
       "      <td>HTTP_PROXY</td>\n",
       "    </tr>\n",
       "    <tr>\n",
       "      <th>1</th>\n",
       "      <td>172.19.1.46-10.200.7.7-52422-3128-6</td>\n",
       "      <td>10.200.7.7</td>\n",
       "      <td>3128</td>\n",
       "      <td>172.19.1.46</td>\n",
       "      <td>52422</td>\n",
       "      <td>6</td>\n",
       "      <td>26/04/201711:11:17</td>\n",
       "      <td>1</td>\n",
       "      <td>2</td>\n",
       "      <td>0</td>\n",
       "      <td>...</td>\n",
       "      <td>0.0</td>\n",
       "      <td>0.0</td>\n",
       "      <td>0.0</td>\n",
       "      <td>0.0</td>\n",
       "      <td>0.0</td>\n",
       "      <td>0.0</td>\n",
       "      <td>0.0</td>\n",
       "      <td>BENIGN</td>\n",
       "      <td>131</td>\n",
       "      <td>HTTP_PROXY</td>\n",
       "    </tr>\n",
       "    <tr>\n",
       "      <th>2</th>\n",
       "      <td>10.200.7.217-50.31.185.39-38848-80-6</td>\n",
       "      <td>50.31.185.39</td>\n",
       "      <td>80</td>\n",
       "      <td>10.200.7.217</td>\n",
       "      <td>38848</td>\n",
       "      <td>6</td>\n",
       "      <td>26/04/201711:11:17</td>\n",
       "      <td>1</td>\n",
       "      <td>3</td>\n",
       "      <td>0</td>\n",
       "      <td>...</td>\n",
       "      <td>0.0</td>\n",
       "      <td>0.0</td>\n",
       "      <td>0.0</td>\n",
       "      <td>0.0</td>\n",
       "      <td>0.0</td>\n",
       "      <td>0.0</td>\n",
       "      <td>0.0</td>\n",
       "      <td>BENIGN</td>\n",
       "      <td>7</td>\n",
       "      <td>HTTP</td>\n",
       "    </tr>\n",
       "    <tr>\n",
       "      <th>3</th>\n",
       "      <td>10.200.7.217-50.31.185.39-38848-80-6</td>\n",
       "      <td>50.31.185.39</td>\n",
       "      <td>80</td>\n",
       "      <td>10.200.7.217</td>\n",
       "      <td>38848</td>\n",
       "      <td>6</td>\n",
       "      <td>26/04/201711:11:17</td>\n",
       "      <td>217</td>\n",
       "      <td>1</td>\n",
       "      <td>3</td>\n",
       "      <td>...</td>\n",
       "      <td>0.0</td>\n",
       "      <td>0.0</td>\n",
       "      <td>0.0</td>\n",
       "      <td>0.0</td>\n",
       "      <td>0.0</td>\n",
       "      <td>0.0</td>\n",
       "      <td>0.0</td>\n",
       "      <td>BENIGN</td>\n",
       "      <td>7</td>\n",
       "      <td>HTTP</td>\n",
       "    </tr>\n",
       "    <tr>\n",
       "      <th>4</th>\n",
       "      <td>192.168.72.43-10.200.7.7-55961-3128-6</td>\n",
       "      <td>192.168.72.43</td>\n",
       "      <td>55961</td>\n",
       "      <td>10.200.7.7</td>\n",
       "      <td>3128</td>\n",
       "      <td>6</td>\n",
       "      <td>26/04/201711:11:17</td>\n",
       "      <td>78068</td>\n",
       "      <td>5</td>\n",
       "      <td>0</td>\n",
       "      <td>...</td>\n",
       "      <td>0.0</td>\n",
       "      <td>0.0</td>\n",
       "      <td>0.0</td>\n",
       "      <td>0.0</td>\n",
       "      <td>0.0</td>\n",
       "      <td>0.0</td>\n",
       "      <td>0.0</td>\n",
       "      <td>BENIGN</td>\n",
       "      <td>131</td>\n",
       "      <td>HTTP_PROXY</td>\n",
       "    </tr>\n",
       "  </tbody>\n",
       "</table>\n",
       "<p>5 rows × 87 columns</p>\n",
       "</div>"
      ],
      "text/plain": [
       "                                 Flow.ID      Source.IP  Source.Port  \\\n",
       "0    172.19.1.46-10.200.7.7-52422-3128-6    172.19.1.46        52422   \n",
       "1    172.19.1.46-10.200.7.7-52422-3128-6     10.200.7.7         3128   \n",
       "2   10.200.7.217-50.31.185.39-38848-80-6   50.31.185.39           80   \n",
       "3   10.200.7.217-50.31.185.39-38848-80-6   50.31.185.39           80   \n",
       "4  192.168.72.43-10.200.7.7-55961-3128-6  192.168.72.43        55961   \n",
       "\n",
       "  Destination.IP  Destination.Port  Protocol           Timestamp  \\\n",
       "0     10.200.7.7              3128         6  26/04/201711:11:17   \n",
       "1    172.19.1.46             52422         6  26/04/201711:11:17   \n",
       "2   10.200.7.217             38848         6  26/04/201711:11:17   \n",
       "3   10.200.7.217             38848         6  26/04/201711:11:17   \n",
       "4     10.200.7.7              3128         6  26/04/201711:11:17   \n",
       "\n",
       "   Flow.Duration  Total.Fwd.Packets  Total.Backward.Packets  ...  Active.Std  \\\n",
       "0          45523                 22                      55  ...         0.0   \n",
       "1              1                  2                       0  ...         0.0   \n",
       "2              1                  3                       0  ...         0.0   \n",
       "3            217                  1                       3  ...         0.0   \n",
       "4          78068                  5                       0  ...         0.0   \n",
       "\n",
       "   Active.Max  Active.Min  Idle.Mean  Idle.Std  Idle.Max  Idle.Min   Label  \\\n",
       "0         0.0         0.0        0.0       0.0       0.0       0.0  BENIGN   \n",
       "1         0.0         0.0        0.0       0.0       0.0       0.0  BENIGN   \n",
       "2         0.0         0.0        0.0       0.0       0.0       0.0  BENIGN   \n",
       "3         0.0         0.0        0.0       0.0       0.0       0.0  BENIGN   \n",
       "4         0.0         0.0        0.0       0.0       0.0       0.0  BENIGN   \n",
       "\n",
       "   L7Protocol  ProtocolName  \n",
       "0         131    HTTP_PROXY  \n",
       "1         131    HTTP_PROXY  \n",
       "2           7          HTTP  \n",
       "3           7          HTTP  \n",
       "4         131    HTTP_PROXY  \n",
       "\n",
       "[5 rows x 87 columns]"
      ]
     },
     "execution_count": 10,
     "metadata": {},
     "output_type": "execute_result"
    }
   ],
   "source": [
    "datasetPath = \"Dataset/Dataset-Applications-87Attributes.csv\"\n",
    "df = pd.read_csv(datasetPath)\n",
    "#df = pd.read_csv(datasetPath, nrows=1000)\n",
    "df.head()"
   ]
  },
  {
   "cell_type": "code",
   "execution_count": 11,
   "metadata": {},
   "outputs": [],
   "source": [
    "originalShape = df.shape"
   ]
  },
  {
   "cell_type": "code",
   "execution_count": 12,
   "metadata": {},
   "outputs": [
    {
     "name": "stdout",
     "output_type": "stream",
     "text": [
      "Flow.ID              object\n",
      "Source.IP            object\n",
      "Source.Port           int64\n",
      "Destination.IP       object\n",
      "Destination.Port      int64\n",
      "                     ...   \n",
      "Idle.Max            float64\n",
      "Idle.Min            float64\n",
      "Label                object\n",
      "L7Protocol            int64\n",
      "ProtocolName         object\n",
      "Length: 87, dtype: object\n"
     ]
    }
   ],
   "source": [
    "# Checking types of values\n",
    "print(df.dtypes)"
   ]
  },
  {
   "cell_type": "markdown",
   "metadata": {},
   "source": [
    "### ip to int converter"
   ]
  },
  {
   "cell_type": "code",
   "execution_count": 13,
   "metadata": {},
   "outputs": [],
   "source": [
    "def ip2int(addr):\n",
    "    # convert ip to int\n",
    "    return struct.unpack(\"!I\", socket.inet_aton(addr))[0]\n",
    "\n",
    "# Converting IP addresses into numbers\n",
    "df['Source.IP'] = df['Source.IP'].apply(ip2int)\n",
    "df['Destination.IP'] = df['Destination.IP'].apply(ip2int)"
   ]
  },
  {
   "cell_type": "markdown",
   "metadata": {},
   "source": [
    "### Drop some of the unnecessary elements"
   ]
  },
  {
   "cell_type": "code",
   "execution_count": 14,
   "metadata": {},
   "outputs": [
    {
     "data": {
      "text/plain": [
       "(3577296, 74)"
      ]
     },
     "execution_count": 14,
     "metadata": {},
     "output_type": "execute_result"
    }
   ],
   "source": [
    "#df.drop(['Source.IP', 'Destination.IP'], axis = 1, inplace = True)\n",
    "#df.drop(['Source.Port', 'Destination.Port'], axis = 1, inplace = True)\n",
    "\n",
    "# remove ['Flow.ID', 'Timestamp', 'Label'] columns\n",
    "df.drop(['Flow.ID', 'Timestamp', 'Label'], axis = 1, inplace = True)\n",
    "\n",
    "# it may necessary to remove columns with only single value\n",
    "singleValueColumns = [col for col in df.columns if df[col].nunique() == 1]\n",
    "df.drop(singleValueColumns, axis = 1, inplace = True)\n",
    "df.shape"
   ]
  },
  {
   "cell_type": "code",
   "execution_count": 15,
   "metadata": {},
   "outputs": [
    {
     "name": "stdout",
     "output_type": "stream",
     "text": [
      "Source.IP             int64\n",
      "Source.Port           int64\n",
      "Destination.IP        int64\n",
      "Destination.Port      int64\n",
      "Protocol              int64\n",
      "                     ...   \n",
      "Idle.Std            float64\n",
      "Idle.Max            float64\n",
      "Idle.Min            float64\n",
      "L7Protocol            int64\n",
      "ProtocolName         object\n",
      "Length: 74, dtype: object\n"
     ]
    }
   ],
   "source": [
    "# Checking types of values\n",
    "print(df.dtypes)"
   ]
  },
  {
   "cell_type": "code",
   "execution_count": 16,
   "metadata": {},
   "outputs": [
    {
     "name": "stdout",
     "output_type": "stream",
     "text": [
      "original shape: (3577296, 87)  -  new shape: (3577296, 74)\n"
     ]
    }
   ],
   "source": [
    "print(\"original shape:\", originalShape, \" -  new shape:\", df.shape)\n",
    "df.to_csv(\"Dataset/filtered-\" + str(len(df.dtypes)) + \"Attributes.csv\", index = False, sep=',')"
   ]
  },
  {
   "cell_type": "markdown",
   "metadata": {},
   "source": [
    "### 17 of the names contribute to %98.6"
   ]
  },
  {
   "cell_type": "code",
   "execution_count": 17,
   "metadata": {},
   "outputs": [
    {
     "data": {
      "text/plain": [
       "GOOGLE            959110\n",
       "HTTP              683734\n",
       "HTTP_PROXY        623210\n",
       "SSL               404883\n",
       "HTTP_CONNECT      317526\n",
       "YOUTUBE           170781\n",
       "AMAZON             86875\n",
       "MICROSOFT          54710\n",
       "GMAIL              40260\n",
       "WINDOWS_UPDATE     34471\n",
       "SKYPE              30657\n",
       "FACEBOOK           29033\n",
       "DROPBOX            25102\n",
       "YAHOO              21268\n",
       "TWITTER            18259\n",
       "CLOUDFLARE         14737\n",
       "MSN                14478\n",
       "Name: ProtocolName, dtype: int64"
      ]
     },
     "execution_count": 17,
     "metadata": {},
     "output_type": "execute_result"
    }
   ],
   "source": [
    "dfMost17 = df[df['ProtocolName'].map(df['ProtocolName'].value_counts()) > df['ProtocolName'].value_counts()[17]]\n",
    "\n",
    "dfMost17['ProtocolName'].value_counts()"
   ]
  },
  {
   "cell_type": "code",
   "execution_count": 18,
   "metadata": {},
   "outputs": [
    {
     "name": "stdout",
     "output_type": "stream",
     "text": [
      "<class 'pandas.core.frame.DataFrame'>\n",
      "Int64Index: 3529094 entries, 0 to 3577295\n",
      "Data columns (total 74 columns):\n",
      " #   Column                       Dtype  \n",
      "---  ------                       -----  \n",
      " 0   Source.IP                    int64  \n",
      " 1   Source.Port                  int64  \n",
      " 2   Destination.IP               int64  \n",
      " 3   Destination.Port             int64  \n",
      " 4   Protocol                     int64  \n",
      " 5   Flow.Duration                int64  \n",
      " 6   Total.Fwd.Packets            int64  \n",
      " 7   Total.Backward.Packets       int64  \n",
      " 8   Total.Length.of.Fwd.Packets  int64  \n",
      " 9   Total.Length.of.Bwd.Packets  float64\n",
      " 10  Fwd.Packet.Length.Max        int64  \n",
      " 11  Fwd.Packet.Length.Min        int64  \n",
      " 12  Fwd.Packet.Length.Mean       float64\n",
      " 13  Fwd.Packet.Length.Std        float64\n",
      " 14  Bwd.Packet.Length.Max        int64  \n",
      " 15  Bwd.Packet.Length.Min        int64  \n",
      " 16  Bwd.Packet.Length.Mean       float64\n",
      " 17  Bwd.Packet.Length.Std        float64\n",
      " 18  Flow.Bytes.s                 float64\n",
      " 19  Flow.Packets.s               float64\n",
      " 20  Flow.IAT.Mean                float64\n",
      " 21  Flow.IAT.Std                 float64\n",
      " 22  Flow.IAT.Max                 float64\n",
      " 23  Flow.IAT.Min                 int64  \n",
      " 24  Fwd.IAT.Total                float64\n",
      " 25  Fwd.IAT.Mean                 float64\n",
      " 26  Fwd.IAT.Std                  float64\n",
      " 27  Fwd.IAT.Max                  float64\n",
      " 28  Fwd.IAT.Min                  float64\n",
      " 29  Bwd.IAT.Total                float64\n",
      " 30  Bwd.IAT.Mean                 float64\n",
      " 31  Bwd.IAT.Std                  float64\n",
      " 32  Bwd.IAT.Max                  float64\n",
      " 33  Bwd.IAT.Min                  float64\n",
      " 34  Fwd.PSH.Flags                int64  \n",
      " 35  Fwd.Header.Length            int64  \n",
      " 36  Bwd.Header.Length            int64  \n",
      " 37  Fwd.Packets.s                float64\n",
      " 38  Bwd.Packets.s                float64\n",
      " 39  Min.Packet.Length            int64  \n",
      " 40  Max.Packet.Length            int64  \n",
      " 41  Packet.Length.Mean           float64\n",
      " 42  Packet.Length.Std            float64\n",
      " 43  Packet.Length.Variance       float64\n",
      " 44  FIN.Flag.Count               int64  \n",
      " 45  SYN.Flag.Count               int64  \n",
      " 46  RST.Flag.Count               int64  \n",
      " 47  PSH.Flag.Count               int64  \n",
      " 48  ACK.Flag.Count               int64  \n",
      " 49  URG.Flag.Count               int64  \n",
      " 50  ECE.Flag.Count               int64  \n",
      " 51  Down.Up.Ratio                int64  \n",
      " 52  Average.Packet.Size          float64\n",
      " 53  Avg.Fwd.Segment.Size         float64\n",
      " 54  Avg.Bwd.Segment.Size         float64\n",
      " 55  Fwd.Header.Length.1          int64  \n",
      " 56  Subflow.Fwd.Packets          int64  \n",
      " 57  Subflow.Fwd.Bytes            int64  \n",
      " 58  Subflow.Bwd.Packets          int64  \n",
      " 59  Subflow.Bwd.Bytes            int64  \n",
      " 60  Init_Win_bytes_forward       int64  \n",
      " 61  Init_Win_bytes_backward      int64  \n",
      " 62  act_data_pkt_fwd             int64  \n",
      " 63  min_seg_size_forward         int64  \n",
      " 64  Active.Mean                  float64\n",
      " 65  Active.Std                   float64\n",
      " 66  Active.Max                   float64\n",
      " 67  Active.Min                   float64\n",
      " 68  Idle.Mean                    float64\n",
      " 69  Idle.Std                     float64\n",
      " 70  Idle.Max                     float64\n",
      " 71  Idle.Min                     float64\n",
      " 72  L7Protocol                   int64  \n",
      " 73  ProtocolName                 object \n",
      "dtypes: float64(36), int64(37), object(1)\n",
      "memory usage: 2.0+ GB\n"
     ]
    }
   ],
   "source": [
    "dfMost17.info()"
   ]
  },
  {
   "cell_type": "code",
   "execution_count": 19,
   "metadata": {},
   "outputs": [
    {
     "name": "stdout",
     "output_type": "stream",
     "text": [
      "original shape: (3577296, 87)  -  new shape: (3529094, 74)\n"
     ]
    }
   ],
   "source": [
    "print(\"original shape:\", originalShape, \" -  new shape:\", dfMost17.shape)\n",
    "dfMost17.to_csv(\"Dataset/filtered-\" + str(len(dfMost17.dtypes)) + \"Attributes-top17_ProtocolName.csv\", index = False, sep=',')"
   ]
  },
  {
   "cell_type": "markdown",
   "metadata": {},
   "source": [
    "###  Balance dataset"
   ]
  },
  {
   "cell_type": "code",
   "execution_count": 20,
   "metadata": {},
   "outputs": [],
   "source": [
    "# get minimum sample size\n",
    "uniqueNames = dfMost17['ProtocolName'].unique()\n",
    "minimumSampleSize = dfMost17['ProtocolName'].value_counts().min()"
   ]
  },
  {
   "cell_type": "code",
   "execution_count": 21,
   "metadata": {},
   "outputs": [],
   "source": [
    "# balance dataset\n",
    "balanced = pd.DataFrame()\n",
    "for name in uniqueNames:\n",
    "    g = dfMost17[dfMost17['ProtocolName']==name].sample(minimumSampleSize)\n",
    "    balanced = pd.concat([balanced, g], axis=0)\n",
    "\n"
   ]
  },
  {
   "cell_type": "code",
   "execution_count": 22,
   "metadata": {},
   "outputs": [
    {
     "data": {
      "text/plain": [
       "YAHOO             14478\n",
       "CLOUDFLARE        14478\n",
       "AMAZON            14478\n",
       "HTTP_CONNECT      14478\n",
       "GOOGLE            14478\n",
       "SKYPE             14478\n",
       "DROPBOX           14478\n",
       "MICROSOFT         14478\n",
       "HTTP_PROXY        14478\n",
       "FACEBOOK          14478\n",
       "MSN               14478\n",
       "YOUTUBE           14478\n",
       "TWITTER           14478\n",
       "WINDOWS_UPDATE    14478\n",
       "HTTP              14478\n",
       "GMAIL             14478\n",
       "SSL               14478\n",
       "Name: ProtocolName, dtype: int64"
      ]
     },
     "execution_count": 22,
     "metadata": {},
     "output_type": "execute_result"
    }
   ],
   "source": [
    "balanced['ProtocolName'].value_counts()"
   ]
  },
  {
   "cell_type": "code",
   "execution_count": 23,
   "metadata": {},
   "outputs": [
    {
     "name": "stdout",
     "output_type": "stream",
     "text": [
      "74\n"
     ]
    }
   ],
   "source": [
    "print(len(balanced.dtypes))"
   ]
  },
  {
   "cell_type": "markdown",
   "metadata": {},
   "source": [
    "### Save balanced dataset"
   ]
  },
  {
   "cell_type": "code",
   "execution_count": 24,
   "metadata": {
    "scrolled": true
   },
   "outputs": [
    {
     "name": "stdout",
     "output_type": "stream",
     "text": [
      "original shape: (3577296, 87)  -  new shape: (246126, 74)\n"
     ]
    }
   ],
   "source": [
    "print(\"original shape:\", originalShape, \" -  new shape:\", balanced.shape)\n",
    "balanced.to_csv(\"Dataset/balanced-\" + str(len(balanced.dtypes)) + \"Attributes-top17_ProtocolName.csv\", index = False, sep=',')"
   ]
  },
  {
   "cell_type": "markdown",
   "metadata": {},
   "source": [
    "### Remaining dataset may use for test "
   ]
  },
  {
   "cell_type": "code",
   "execution_count": null,
   "metadata": {},
   "outputs": [],
   "source": [
    "dfMost17 = dfMost17 - balanced\n",
    "\n",
    "print(\"original shape:\", originalShape, \" -  new shape:\", dfMost17.shape)\n",
    "dfMost17 - balanced.to_csv(\"Dataset/Remaining-\" + str(len(dfMost17)) + \"Attributes-top17_ProtocolName.csv\", index = False, sep=',')"
   ]
  }
 ],
 "metadata": {
  "kernelspec": {
   "display_name": "Python 3",
   "language": "python",
   "name": "python3"
  },
  "language_info": {
   "codemirror_mode": {
    "name": "ipython",
    "version": 3
   },
   "file_extension": ".py",
   "mimetype": "text/x-python",
   "name": "python",
   "nbconvert_exporter": "python",
   "pygments_lexer": "ipython3",
   "version": "3.6.9"
  }
 },
 "nbformat": 4,
 "nbformat_minor": 4
}
